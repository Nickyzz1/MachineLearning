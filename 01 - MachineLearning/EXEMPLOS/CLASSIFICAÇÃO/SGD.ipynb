{
 "cells": [
  {
   "cell_type": "code",
   "execution_count": null,
   "metadata": {},
   "outputs": [],
   "source": [
    "from sklearn.linear_model import SGDClassifier\n",
    "from sklearn.datasets import make_classification\n",
    "from sklearn.metrics import accuracy_score\n",
    "\n",
    "# Gerando dados sintéticos de classificação\n",
    "X, y = make_classification(n_samples=1000, n_features=10, random_state=42)\n",
    "\n",
    "# Dividindo os dados\n",
    "X_train, X_test, y_train, y_test = train_test_split(X, y, test_size=0.2, random_state=42)\n",
    "\n",
    "# Criando e treinando o classificador SGD\n",
    "sgd_clf = SGDClassifier(loss=\"log_loss\", penalty=\"l2\", max_iter=1000, tol=1e-3)\n",
    "sgd_clf.fit(X_train, y_train)\n",
    "\n",
    "# Fazendo previsões e avaliando\n",
    "y_pred = sgd_clf.predict(X_test)\n",
    "print(\"Acurácia:\", accuracy_score(y_test, y_pred))\n"
   ]
  }
 ],
 "metadata": {
  "kernelspec": {
   "display_name": "Python 3",
   "language": "python",
   "name": "python3"
  },
  "language_info": {
   "name": "python",
   "version": "3.12.1"
  }
 },
 "nbformat": 4,
 "nbformat_minor": 2
}
