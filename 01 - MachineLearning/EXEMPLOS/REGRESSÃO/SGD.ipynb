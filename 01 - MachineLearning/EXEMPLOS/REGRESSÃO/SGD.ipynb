{
 "cells": [
  {
   "cell_type": "code",
   "execution_count": null,
   "metadata": {},
   "outputs": [],
   "source": [
    "import numpy as np\n",
    "from sklearn.linear_model import SGDRegressor\n",
    "from sklearn.model_selection import train_test_split\n",
    "from sklearn.preprocessing import StandardScaler\n",
    "\n",
    "# Gerando dados sintéticos\n",
    "np.random.seed(42)\n",
    "X = 2 * np.random.rand(1000, 1)\n",
    "y = 4 + 3 * X + np.random.randn(1000, 1)\n",
    "\n",
    "# Dividindo em treino e teste\n",
    "X_train, X_test, y_train, y_test = train_test_split(X, y, test_size=0.2, random_state=42)\n",
    "\n",
    "# Padronizando os dados (SGD é sensível a escalas)\n",
    "scaler = StandardScaler()\n",
    "X_train_scaled = scaler.fit_transform(X_train)\n",
    "X_test_scaled = scaler.transform(X_test)\n",
    "\n",
    "# Criando e treinando o modelo\n",
    "sgd_reg = SGDRegressor(max_iter=1000, tol=1e-3, penalty='l2', learning_rate='optimal', eta0=0.01)\n",
    "sgd_reg.fit(X_train_scaled, y_train.ravel())\n",
    "\n",
    "# Avaliação\n",
    "print(\"Coeficiente:\", sgd_reg.coef_)\n",
    "print(\"Intercepto:\", sgd_reg.intercept_)\n"
   ]
  }
 ],
 "metadata": {
  "kernelspec": {
   "display_name": "Python 3",
   "language": "python",
   "name": "python3"
  },
  "language_info": {
   "name": "python",
   "version": "3.12.1"
  }
 },
 "nbformat": 4,
 "nbformat_minor": 2
}
