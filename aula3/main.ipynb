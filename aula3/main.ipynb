{
 "cells": [
  {
   "cell_type": "code",
   "execution_count": 471,
   "metadata": {},
   "outputs": [],
   "source": [
    "# Prevendo quantas bicicletas serão emprestadas"
   ]
  },
  {
   "cell_type": "code",
   "execution_count": 472,
   "metadata": {},
   "outputs": [],
   "source": [
    "import pandas as pd\n",
    "import numpy as np\n",
    "from sklearn.model_selection import train_test_split\n",
    "from sklearn.linear_model import LinearRegression\n",
    "from joblib import dump, load\n",
    "from sklearn.metrics import mean_absolute_error\n",
    "from sklearn.tree import DecisionTreeRegressor\n",
    "from sklearn.tree import DecisionTreeClassifier\n",
    "import random\n",
    "from sklearn.metrics import mean_squared_error, mean_absolute_error, r2_score"
   ]
  },
  {
   "cell_type": "code",
   "execution_count": 473,
   "metadata": {},
   "outputs": [],
   "source": [
    "\n",
    "# Carregando o DataFrame\n",
    "df = pd.read_csv('day.csv')\n",
    "\n",
    "# lista de resultados reais\n",
    "realResults = df['cnt'].head(10).tolist()\n",
    "\n",
    "# Retirando colunas não úteis\n",
    "df = df.drop(['dteday', 'registered', 'casual', 'instant', 'cnt'], axis=1)\n",
    "\n",
    "# Convertendo as primeiras 10 linhas em uma matriz 2D\n",
    "X = df.head(10).values  # Isso cria uma matriz 2D\n",
    "realResults = np.array(realResults)"
   ]
  },
  {
   "cell_type": "code",
   "execution_count": 474,
   "metadata": {},
   "outputs": [],
   "source": [
    "# Variáveis\n",
    "w = np.random.uniform(0.0, 1.0, size=X.shape[1])  # Vetor de pesos com o mesmo número de colunas de X, um peso para cada coluna\n",
    "b = round(random.uniform(0.0, 1.0), 5) # aproximação de 5 casas\n",
    "var_lambda = 0.001  # Regularização L1\n",
    "alpha = 0.01"
   ]
  },
  {
   "cell_type": "code",
   "execution_count": 475,
   "metadata": {},
   "outputs": [],
   "source": [
    "#129 dados de teste"
   ]
  },
  {
   "cell_type": "code",
   "execution_count": 476,
   "metadata": {},
   "outputs": [],
   "source": [
    "# Função de erro\n",
    "def error(vetorW):\n",
    "    \"\"\"\n",
    "    Calcula a função de erro da IA\n",
    "    \"\"\"\n",
    "    erro = np.sum((X @ vetorW + b - realResults) ** 2) # multiplicação de matrizes + beta - resultados reais\n",
    "    regulador = var_lambda * np.sum(np.abs(vetorW))  # Norma L1, np.abs tira todos os sinais dos numeros de vetorW\n",
    "    return erro + regulador\n",
    "# medida de quão bem o modelo está fazendo previsões em relação aos resultados reais."
   ]
  },
  {
   "cell_type": "code",
   "execution_count": 477,
   "metadata": {},
   "outputs": [],
   "source": [
    "\n",
    "# Função para calcular a derivada\n",
    "def derivative(vetorW, index):\n",
    "    err = error(vetorW)  # Erro inicial\n",
    "    vetorW[index] += 0.1  # Um passo numa variável específica, modifica o peso\n",
    "    nerr = error(vetorW)  # Erro no ponto futuro\n",
    "    vetorW[index] -= 0.1  # Reverte o passo\n",
    "    derivada = (nerr - err) / 0.1  # Derivada\n",
    "    return derivada"
   ]
  },
  {
   "cell_type": "code",
   "execution_count": 478,
   "metadata": {},
   "outputs": [],
   "source": [
    "\n",
    "# Definindo a taxa de aprendizado\n",
    "alpha = 0.000001 \n",
    "\n",
    "# Função de Gradient Descendente Estocástico (SGD)\n",
    "def sgd(X, y, w, b, alpha, n_iter):\n",
    "    \"\"\"\n",
    "    Executa o SGD (Stochastic Gradient Descent) em lotes.\n",
    "    \"\"\"\n",
    "    m = len(X)\n",
    "    \n",
    "    for i in range(n_iter):\n",
    "\n",
    "        # Calculando o gradiente para cada peso\n",
    "        dw = np.zeros_like(w)\n",
    "        for j in range(len(w)):\n",
    "            dw[j] = derivative(w, j)  # Derivada para cada peso\n",
    "\n",
    "        # Atualizando pesos e viés com a taxa de aprendizado\n",
    "        w -= alpha * dw\n",
    "        b -= alpha * np.sum(dw)  # Atualizando o viés\n",
    "        \n",
    "        # Exibir erro a cada 100 iterações\n",
    "        if i % 100 == 0:\n",
    "            print(f\"Iteração {i}, Erro: {error(w)}\")\n",
    "    \n",
    "    return w, b\n",
    "\n",
    "\n"
   ]
  },
  {
   "cell_type": "code",
   "execution_count": 479,
   "metadata": {},
   "outputs": [
    {
     "name": "stdout",
     "output_type": "stream",
     "text": [
      "Iteração 0, Erro: 16514514.23728461\n",
      "Mean Squared Error: 1613129.7722\n",
      "Mean absolute error: 1231.6199\n",
      "R² Score: -15.6527\n"
     ]
    }
   ],
   "source": [
    "# # Calculando a derivada\n",
    "# print(derivative(w, 0))\n",
    "\n",
    "n_iter = 30 # Número de iterações\n",
    "\n",
    "w, b = sgd(X, realResults, w, b, alpha, n_iter)\n",
    "\n",
    "y_pred = X @ w + b  # Multiplicação de matrizes para prever os valores\n",
    "\n",
    "# Calcular métricas\n",
    "mse = mean_squared_error(realResults, y_pred)\n",
    "mae = mean_absolute_error(realResults, y_pred)\n",
    "r2 = r2_score(realResults, y_pred)\n",
    "\n",
    "# Mostrar resultados\n",
    "print(f\"Mean Squared Error: {mse:.4f}\")\n",
    "print(f\"Mean absolute error: {mae:.4f}\")\n",
    "print(f\"R² Score: {r2:.4f}\")\n",
    "\n",
    "# Definindo a taxa de aprendizado\n",
    "alpha = 0.01  # Ajuste esse valor conforme necessário\n",
    "\n",
    "# Definindo a taxa de aprendizado\n",
    "alpha = 0.01  # Ajuste esse valor conforme necessário\n",
    "\n",
    "\n",
    "\n",
    "\n"
   ]
  }
 ],
 "metadata": {
  "kernelspec": {
   "display_name": "Python 3",
   "language": "python",
   "name": "python3"
  },
  "language_info": {
   "codemirror_mode": {
    "name": "ipython",
    "version": 3
   },
   "file_extension": ".py",
   "mimetype": "text/x-python",
   "name": "python",
   "nbconvert_exporter": "python",
   "pygments_lexer": "ipython3",
   "version": "3.12.1"
  }
 },
 "nbformat": 4,
 "nbformat_minor": 2
}
