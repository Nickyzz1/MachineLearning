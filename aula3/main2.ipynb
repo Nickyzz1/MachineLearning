{
 "cells": [
  {
   "cell_type": "code",
   "execution_count": 1,
   "metadata": {},
   "outputs": [],
   "source": [
    "\n",
    "import pandas as pd\n",
    "import numpy as np\n",
    "from sklearn.model_selection import train_test_split\n",
    "from sklearn.linear_model import LinearRegression\n",
    "from joblib import dump, load\n",
    "from sklearn.metrics import mean_absolute_error\n",
    "from sklearn.tree import DecisionTreeRegressor\n",
    "from sklearn.tree import DecisionTreeClassifier\n",
    "import random"
   ]
  },
  {
   "cell_type": "code",
   "execution_count": 2,
   "metadata": {},
   "outputs": [],
   "source": [
    "\n",
    "# Carregando o DataFrame\n",
    "df = pd.read_csv('day.csv')\n",
    "\n",
    "# lista de resultados reais\n",
    "realResults = df['cnt'].head(10).tolist()\n",
    "\n",
    "# Retirando colunas não úteis\n",
    "df = df.drop(['dteday', 'registered', 'casual', 'workingday', 'instant', 'temp', 'cnt'], axis=1)\n",
    "\n",
    "# Convertendo as primeiras 10 linhas em uma matriz 2D\n",
    "X = df.head(10).values  # Isso cria uma matriz 2D\n",
    "realResults = np.array(realResults)"
   ]
  },
  {
   "cell_type": "code",
   "execution_count": 3,
   "metadata": {},
   "outputs": [
    {
     "name": "stdout",
     "output_type": "stream",
     "text": [
      "Iteração 0, Erro: 42.16419091962596\n",
      "Iteração 100, Erro: 0.5201782419951237\n",
      "Iteração 200, Erro: 0.2638590175461196\n",
      "Iteração 300, Erro: 0.1664222887784515\n",
      "Iteração 400, Erro: 0.058904828417903475\n",
      "Iteração 500, Erro: 0.02943037031896852\n",
      "Iteração 600, Erro: 0.014476847868796383\n",
      "Iteração 700, Erro: 0.00699542430648441\n",
      "Iteração 800, Erro: 0.00449266966057983\n",
      "Iteração 900, Erro: 0.0017637881861007297\n",
      "Pesos finais: [2.01659638], Bias final: 2.93206066366092\n"
     ]
    }
   ],
   "source": [
    "# Exemplo de função de erro (Erro Quadrático Médio)\n",
    "def erro(X, y, w, b):\n",
    "    preds = X.dot(w) + b  # Predições\n",
    "    return np.mean((preds - y) ** 2)  # Erro quadrático médio\n",
    "\n",
    "# Função que calcula o gradiente do erro em relação aos pesos\n",
    "def gradiente(X, y, w, b):\n",
    "    m = len(X)\n",
    "    preds = X.dot(w) + b\n",
    "    dw = (2/m) * X.T.dot(preds - y)  # Gradiente de w\n",
    "    db = (2/m) * np.sum(preds - y)  # Gradiente de b\n",
    "    return dw, db\n",
    "\n",
    "# Função de Gradient Descendente Estocástico (SGD)\n",
    "def sgd(X, y, w, b, eta, n_iter):\n",
    "    for i in range(n_iter):\n",
    "        # Escolher uma amostra aleatória (SGD)\n",
    "        random_index = np.random.randint(0, len(X))  # Escolher uma amostra aleatória\n",
    "        X_i = X[random_index:random_index+1]  # Pegar uma amostra\n",
    "        y_i = y[random_index:random_index+1]\n",
    "        \n",
    "        # Calcular o gradiente\n",
    "        dw, db = gradiente(X_i, y_i, w, b)\n",
    "        \n",
    "        # Atualizar os pesos com o gradiente\n",
    "        w -= eta * dw\n",
    "        b -= eta * db\n",
    "        \n",
    "        # Mostrar o erro a cada 100 iterações\n",
    "        if i % 100 == 0:\n",
    "            print(f\"Iteração {i}, Erro: {erro(X, y, w, b)}\")\n",
    "    \n",
    "    return w, b\n",
    "\n",
    "# Inicialização dos pesos\n",
    "w = np.random.randn(X.shape[1])  # Peso aleatório\n",
    "b = 0  # Inicializa o bias\n",
    "\n",
    "# Taxa de aprendizado e número de iterações\n",
    "eta = 0.01  # Taxa de aprendizado\n",
    "n_iter = 1000  # Número de iterações\n",
    "\n",
    "# Executando o Gradient Descendente Estocástico (SGD)\n",
    "w, b = sgd(X, y, w, b, eta, n_iter)\n",
    "\n",
    "print(f\"Pesos finais: {w}, Bias final: {b}\")"
   ]
  }
 ],
 "metadata": {
  "kernelspec": {
   "display_name": "Python 3",
   "language": "python",
   "name": "python3"
  },
  "language_info": {
   "codemirror_mode": {
    "name": "ipython",
    "version": 3
   },
   "file_extension": ".py",
   "mimetype": "text/x-python",
   "name": "python",
   "nbconvert_exporter": "python",
   "pygments_lexer": "ipython3",
   "version": "3.12.1"
  }
 },
 "nbformat": 4,
 "nbformat_minor": 2
}
