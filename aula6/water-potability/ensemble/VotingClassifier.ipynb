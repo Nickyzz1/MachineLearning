{
 "cells": [
  {
   "cell_type": "code",
   "execution_count": 3,
   "metadata": {},
   "outputs": [
    {
     "name": "stderr",
     "output_type": "stream",
     "text": [
      "c:\\Users\\disrct\\AppData\\Local\\Programs\\Python\\Python312\\Lib\\site-packages\\sklearn\\linear_model\\_logistic.py:469: ConvergenceWarning: lbfgs failed to converge (status=1):\n",
      "STOP: TOTAL NO. of ITERATIONS REACHED LIMIT.\n",
      "\n",
      "Increase the number of iterations (max_iter) or scale the data as shown in:\n",
      "    https://scikit-learn.org/stable/modules/preprocessing.html\n",
      "Please also refer to the documentation for alternative solver options:\n",
      "    https://scikit-learn.org/stable/modules/linear_model.html#logistic-regression\n",
      "  n_iter_i = _check_optimize_result(\n"
     ]
    },
    {
     "name": "stdout",
     "output_type": "stream",
     "text": [
      "Acurácia do modelo ensemble: 0.6656\n",
      "Erro do modelo ensemble: 0.3344\n",
      "Relatório de Classificação:\n",
      "              precision    recall  f1-score   support\n",
      "\n",
      "           0       0.65      0.98      0.79       189\n",
      "           1       0.83      0.13      0.23       113\n",
      "\n",
      "    accuracy                           0.67       302\n",
      "   macro avg       0.74      0.56      0.51       302\n",
      "weighted avg       0.72      0.67      0.58       302\n",
      "\n",
      "Matriz de Confusão:\n",
      "[[186   3]\n",
      " [ 98  15]]\n"
     ]
    }
   ],
   "source": [
    "# Importando bibliotecas necessárias\n",
    "from sklearn.datasets import load_iris\n",
    "import pandas as pd\n",
    "from sklearn.model_selection import train_test_split\n",
    "from sklearn.ensemble import VotingClassifier, RandomForestClassifier\n",
    "from sklearn.linear_model import LogisticRegression\n",
    "from sklearn.svm import SVC\n",
    "from sklearn.metrics import accuracy_score, classification_report, confusion_matrix\n",
    "\n",
    "# Carregando o dataset Iris (pode ser substituído pelo seu próprio dataset)\n",
    "df = pd.read_csv('../water_potability.csv').dropna()\n",
    "\n",
    "X = df.drop('Potability', axis=1) \n",
    "y = df['Potability']  \n",
    "\n",
    "# separando em dados de treino e dados de teste\n",
    "X_train, X_test, y_train, y_test = train_test_split(X, y, test_size=0.15, shuffle=True)\n",
    "\n",
    "\n",
    "# Definindo os classificadores base\n",
    "clf1 = LogisticRegression(max_iter=200)\n",
    "clf2 = RandomForestClassifier(n_estimators=100)\n",
    "clf3 = SVC(probability=True)\n",
    "\n",
    "# Criando o Voting Classifier (usando \"soft voting\")\n",
    "ensemble_clf = VotingClassifier(estimators=[('lr', clf1), ('rf', clf2), ('svm', clf3)], voting='soft')\n",
    "\n",
    "# Treinando o modelo ensemble\n",
    "ensemble_clf.fit(X_train, y_train)\n",
    "\n",
    "# Realizando previsões\n",
    "y_pred = ensemble_clf.predict(X_test)\n",
    "\n",
    "# Avaliando o desempenho\n",
    "accuracy = accuracy_score(y_test, y_pred)\n",
    "print(f'Acurácia do modelo ensemble: {accuracy:.4f}')\n",
    "\n",
    "# Cálculo do erro\n",
    "error = 1 - accuracy\n",
    "print(f'Erro do modelo ensemble: {error:.4f}')\n",
    "\n",
    "# Relatório de classificação (precision, recall, f1-score)\n",
    "report = classification_report(y_test, y_pred)\n",
    "print('Relatório de Classificação:')\n",
    "print(report)\n",
    "\n",
    "# Matriz de confusão\n",
    "conf_matrix = confusion_matrix(y_test, y_pred)\n",
    "print('Matriz de Confusão:')\n",
    "print(conf_matrix)\n"
   ]
  }
 ],
 "metadata": {
  "kernelspec": {
   "display_name": "Python 3",
   "language": "python",
   "name": "python3"
  },
  "language_info": {
   "codemirror_mode": {
    "name": "ipython",
    "version": 3
   },
   "file_extension": ".py",
   "mimetype": "text/x-python",
   "name": "python",
   "nbconvert_exporter": "python",
   "pygments_lexer": "ipython3",
   "version": "3.12.1"
  }
 },
 "nbformat": 4,
 "nbformat_minor": 2
}
