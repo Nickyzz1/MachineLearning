{
 "cells": [
  {
   "cell_type": "code",
   "execution_count": 22,
   "metadata": {},
   "outputs": [],
   "source": [
    "import matplotlib.pyplot as plt\n",
    "%matplotlib inline\n",
    "import pandas as pd\n",
    "import numpy as np"
   ]
  },
  {
   "cell_type": "code",
   "execution_count": 23,
   "metadata": {},
   "outputs": [
    {
     "data": {
      "text/plain": [
       "'\\nNosso objetivo neste exercício é criar um modelo de machine learning, utilizando a técnica de Regressão Linear, que faça previsões sobre os preços de imóveis a partir de um conjunto de características conhecidas dos imóveis. \\n'"
      ]
     },
     "execution_count": 23,
     "metadata": {},
     "output_type": "execute_result"
    }
   ],
   "source": [
    "\"\"\"\n",
    "Nosso objetivo neste exercício é criar um modelo de machine learning, utilizando a técnica de Regressão Linear, que faça previsões sobre os preços de imóveis a partir de um conjunto de características conhecidas dos imóveis. \n",
    "\"\"\""
   ]
  },
  {
   "cell_type": "code",
   "execution_count": 24,
   "metadata": {},
   "outputs": [
    {
     "data": {
      "text/html": [
       "<div>\n",
       "<style scoped>\n",
       "    .dataframe tbody tr th:only-of-type {\n",
       "        vertical-align: middle;\n",
       "    }\n",
       "\n",
       "    .dataframe tbody tr th {\n",
       "        vertical-align: top;\n",
       "    }\n",
       "\n",
       "    .dataframe thead th {\n",
       "        text-align: right;\n",
       "    }\n",
       "</style>\n",
       "<table border=\"1\" class=\"dataframe\">\n",
       "  <thead>\n",
       "    <tr style=\"text-align: right;\">\n",
       "      <th></th>\n",
       "      <th>Area,Garage,FirePlace,Baths,White Marble,Black Marble,Indian Marble,Floors,City,Solar,Electric,Fiber,Glass Doors,Swiming Pool,Garden,Prices</th>\n",
       "    </tr>\n",
       "  </thead>\n",
       "  <tbody>\n",
       "    <tr>\n",
       "      <th>0</th>\n",
       "      <td>164,2,0,2,0,1,0,0,3,1,1,1,1,0,0,43800</td>\n",
       "    </tr>\n",
       "    <tr>\n",
       "      <th>1</th>\n",
       "      <td>84,2,0,4,0,0,1,1,2,0,0,0,1,1,1,37550</td>\n",
       "    </tr>\n",
       "    <tr>\n",
       "      <th>2</th>\n",
       "      <td>190,2,4,4,1,0,0,0,2,0,0,1,0,0,0,49500</td>\n",
       "    </tr>\n",
       "    <tr>\n",
       "      <th>3</th>\n",
       "      <td>75,2,4,4,0,0,1,1,1,1,1,1,1,1,1,50075</td>\n",
       "    </tr>\n",
       "    <tr>\n",
       "      <th>4</th>\n",
       "      <td>148,1,4,2,1,0,0,1,2,1,0,0,1,1,1,52400</td>\n",
       "    </tr>\n",
       "    <tr>\n",
       "      <th>5</th>\n",
       "      <td>124,3,3,3,0,1,0,1,1,0,0,1,1,1,1,54300</td>\n",
       "    </tr>\n",
       "    <tr>\n",
       "      <th>6</th>\n",
       "      <td>58,1,0,2,0,0,1,0,3,0,1,1,1,0,1,34400</td>\n",
       "    </tr>\n",
       "    <tr>\n",
       "      <th>7</th>\n",
       "      <td>249,2,1,1,1,0,0,1,1,0,1,0,1,1,0,50425</td>\n",
       "    </tr>\n",
       "    <tr>\n",
       "      <th>8</th>\n",
       "      <td>243,1,0,2,0,0,1,1,1,0,0,0,0,1,0,29575</td>\n",
       "    </tr>\n",
       "    <tr>\n",
       "      <th>9</th>\n",
       "      <td>242,1,2,4,0,0,1,0,2,1,0,0,0,1,0,22300</td>\n",
       "    </tr>\n",
       "  </tbody>\n",
       "</table>\n",
       "</div>"
      ],
      "text/plain": [
       "  Area,Garage,FirePlace,Baths,White Marble,Black Marble,Indian Marble,Floors,City,Solar,Electric,Fiber,Glass Doors,Swiming Pool,Garden,Prices\n",
       "0              164,2,0,2,0,1,0,0,3,1,1,1,1,0,0,43800                                                                                         \n",
       "1               84,2,0,4,0,0,1,1,2,0,0,0,1,1,1,37550                                                                                         \n",
       "2              190,2,4,4,1,0,0,0,2,0,0,1,0,0,0,49500                                                                                         \n",
       "3               75,2,4,4,0,0,1,1,1,1,1,1,1,1,1,50075                                                                                         \n",
       "4              148,1,4,2,1,0,0,1,2,1,0,0,1,1,1,52400                                                                                         \n",
       "5              124,3,3,3,0,1,0,1,1,0,0,1,1,1,1,54300                                                                                         \n",
       "6               58,1,0,2,0,0,1,0,3,0,1,1,1,0,1,34400                                                                                         \n",
       "7              249,2,1,1,1,0,0,1,1,0,1,0,1,1,0,50425                                                                                         \n",
       "8              243,1,0,2,0,0,1,1,1,0,0,0,0,1,0,29575                                                                                         \n",
       "9              242,1,2,4,0,0,1,0,2,1,0,0,0,1,0,22300                                                                                         "
      ]
     },
     "execution_count": 24,
     "metadata": {},
     "output_type": "execute_result"
    }
   ],
   "source": [
    "dados = pd.read_csv('HousePrices_HalfMil.csv', sep = ';')\n",
    "dados.head(10)"
   ]
  },
  {
   "cell_type": "code",
   "execution_count": 25,
   "metadata": {},
   "outputs": [
    {
     "data": {
      "text/plain": [
       "(500000, 1)"
      ]
     },
     "execution_count": 25,
     "metadata": {},
     "output_type": "execute_result"
    }
   ],
   "source": [
    "# verificando o tamanho do dataset\n",
    "dados.shape"
   ]
  },
  {
   "cell_type": "code",
   "execution_count": 26,
   "metadata": {},
   "outputs": [
    {
     "data": {
      "text/html": [
       "<div>\n",
       "<style scoped>\n",
       "    .dataframe tbody tr th:only-of-type {\n",
       "        vertical-align: middle;\n",
       "    }\n",
       "\n",
       "    .dataframe tbody tr th {\n",
       "        vertical-align: top;\n",
       "    }\n",
       "\n",
       "    .dataframe thead th {\n",
       "        text-align: right;\n",
       "    }\n",
       "</style>\n",
       "<table border=\"1\" class=\"dataframe\">\n",
       "  <thead>\n",
       "    <tr style=\"text-align: right;\">\n",
       "      <th></th>\n",
       "      <th>Area,Garage,FirePlace,Baths,White Marble,Black Marble,Indian Marble,Floors,City,Solar,Electric,Fiber,Glass Doors,Swiming Pool,Garden,Prices</th>\n",
       "    </tr>\n",
       "  </thead>\n",
       "  <tbody>\n",
       "    <tr>\n",
       "      <th>count</th>\n",
       "      <td>500000</td>\n",
       "    </tr>\n",
       "    <tr>\n",
       "      <th>unique</th>\n",
       "      <td>494307</td>\n",
       "    </tr>\n",
       "    <tr>\n",
       "      <th>top</th>\n",
       "      <td>59,2,4,2,0,1,0,0,2,1,0,1,0,0,0,34975</td>\n",
       "    </tr>\n",
       "    <tr>\n",
       "      <th>freq</th>\n",
       "      <td>3</td>\n",
       "    </tr>\n",
       "  </tbody>\n",
       "</table>\n",
       "</div>"
      ],
      "text/plain": [
       "       Area,Garage,FirePlace,Baths,White Marble,Black Marble,Indian Marble,Floors,City,Solar,Electric,Fiber,Glass Doors,Swiming Pool,Garden,Prices\n",
       "count                                              500000                                                                                         \n",
       "unique                                             494307                                                                                         \n",
       "top                  59,2,4,2,0,1,0,0,2,1,0,1,0,0,0,34975                                                                                         \n",
       "freq                                                    3                                                                                         "
      ]
     },
     "execution_count": 26,
     "metadata": {},
     "output_type": "execute_result"
    }
   ],
   "source": [
    "# estatisticas descritivas\n",
    "dados.describe()"
   ]
  },
  {
   "cell_type": "code",
   "execution_count": 27,
   "metadata": {},
   "outputs": [
    {
     "data": {
      "text/plain": [
       "' exemplo\\n\\t    precos\\tarea\\tgaragem\\tbanheiros\\tlareira\\tmarmore\\tandares\\nprecos\\t1.0000\\t0.1177\\t0.1028\\t0.1244\\t0.1072\\t0.4308\\t0.6315\\narea\\t0.1177\\t1.0000\\t-0.0075\\t-0.0114\\t0.0121\\t-0.0153\\t-0.0180\\ngaragem\\t0.1028\\t-0.0075\\t1.0000\\t0.0671\\t0.0605\\t-0.0156\\t-0.0206\\nbanheiros\\t0.1244\\t-0.0114\\t0.0671\\t1.0000\\t0.0484\\t-0.0253\\t-0.0182\\nlareira\\t0.1072\\t0.0121\\t0.0605\\t0.0484\\t1.0000\\t0.0296\\t-0.0035\\nmarmore\\t0.4308\\t-0.0153\\t-0.0156\\t-0.0253\\t0.0296\\t1.0000\\t-0.0065\\nandares\\t0.6315\\t-0.0180\\t-0.0206\\t-0.0182\\t-0.0035\\t-0.0065\\t1.0000\\n'"
      ]
     },
     "execution_count": 27,
     "metadata": {},
     "output_type": "execute_result"
    }
   ],
   "source": [
    "# verificanddo maior correlação entre os dados\n",
    "\n",
    "\"\"\" exemplo\n",
    "\t    precos\tarea\tgaragem\tbanheiros\tlareira\tmarmore\tandares\n",
    "precos\t1.0000\t0.1177\t0.1028\t0.1244\t0.1072\t0.4308\t0.6315\n",
    "area\t0.1177\t1.0000\t-0.0075\t-0.0114\t0.0121\t-0.0153\t-0.0180\n",
    "garagem\t0.1028\t-0.0075\t1.0000\t0.0671\t0.0605\t-0.0156\t-0.0206\n",
    "banheiros\t0.1244\t-0.0114\t0.0671\t1.0000\t0.0484\t-0.0253\t-0.0182\n",
    "lareira\t0.1072\t0.0121\t0.0605\t0.0484\t1.0000\t0.0296\t-0.0035\n",
    "marmore\t0.4308\t-0.0153\t-0.0156\t-0.0253\t0.0296\t1.0000\t-0.0065\n",
    "andares\t0.6315\t-0.0180\t-0.0206\t-0.0182\t-0.0035\t-0.0065\t1.0000\n",
    "\"\"\"\n",
    "# dados.corr().round(4)"
   ]
  },
  {
   "cell_type": "code",
   "execution_count": 28,
   "metadata": {},
   "outputs": [
    {
     "ename": "KeyError",
     "evalue": "'precos'",
     "output_type": "error",
     "traceback": [
      "\u001b[1;31m---------------------------------------------------------------------------\u001b[0m",
      "\u001b[1;31mKeyError\u001b[0m                                  Traceback (most recent call last)",
      "File \u001b[1;32mc:\\Python311\\Lib\\site-packages\\pandas\\core\\indexes\\base.py:3805\u001b[0m, in \u001b[0;36mIndex.get_loc\u001b[1;34m(self, key)\u001b[0m\n\u001b[0;32m   3804\u001b[0m \u001b[38;5;28;01mtry\u001b[39;00m:\n\u001b[1;32m-> 3805\u001b[0m     \u001b[38;5;28;01mreturn\u001b[39;00m \u001b[38;5;28;43mself\u001b[39;49m\u001b[38;5;241;43m.\u001b[39;49m\u001b[43m_engine\u001b[49m\u001b[38;5;241;43m.\u001b[39;49m\u001b[43mget_loc\u001b[49m\u001b[43m(\u001b[49m\u001b[43mcasted_key\u001b[49m\u001b[43m)\u001b[49m\n\u001b[0;32m   3806\u001b[0m \u001b[38;5;28;01mexcept\u001b[39;00m \u001b[38;5;167;01mKeyError\u001b[39;00m \u001b[38;5;28;01mas\u001b[39;00m err:\n",
      "File \u001b[1;32mindex.pyx:167\u001b[0m, in \u001b[0;36mpandas._libs.index.IndexEngine.get_loc\u001b[1;34m()\u001b[0m\n",
      "File \u001b[1;32mindex.pyx:196\u001b[0m, in \u001b[0;36mpandas._libs.index.IndexEngine.get_loc\u001b[1;34m()\u001b[0m\n",
      "File \u001b[1;32mpandas\\\\_libs\\\\hashtable_class_helper.pxi:7081\u001b[0m, in \u001b[0;36mpandas._libs.hashtable.PyObjectHashTable.get_item\u001b[1;34m()\u001b[0m\n",
      "File \u001b[1;32mpandas\\\\_libs\\\\hashtable_class_helper.pxi:7089\u001b[0m, in \u001b[0;36mpandas._libs.hashtable.PyObjectHashTable.get_item\u001b[1;34m()\u001b[0m\n",
      "\u001b[1;31mKeyError\u001b[0m: 'precos'",
      "\nThe above exception was the direct cause of the following exception:\n",
      "\u001b[1;31mKeyError\u001b[0m                                  Traceback (most recent call last)",
      "Cell \u001b[1;32mIn[28], line 10\u001b[0m\n\u001b[0;32m      1\u001b[0m \u001b[38;5;28;01mimport\u001b[39;00m\u001b[38;5;250m \u001b[39m\u001b[38;5;21;01mseaborn\u001b[39;00m\u001b[38;5;250m \u001b[39m\u001b[38;5;28;01mas\u001b[39;00m\u001b[38;5;250m \u001b[39m\u001b[38;5;21;01msns\u001b[39;00m\n\u001b[0;32m      3\u001b[0m \u001b[38;5;124;03m\"\"\" \u001b[39;00m\n\u001b[0;32m      4\u001b[0m \u001b[38;5;124;03m    Box plot da variável dependente (y)\u001b[39;00m\n\u001b[0;32m      5\u001b[0m \u001b[38;5;124;03m    Avalie o comportamento da distribuição da variável dependente:\u001b[39;00m\n\u001b[0;32m      6\u001b[0m \u001b[38;5;124;03m    Parecem existir valores discrepantes (outliers)?\u001b[39;00m\n\u001b[0;32m      7\u001b[0m \u001b[38;5;124;03m    O box plot apresenta alguma tendência?\u001b[39;00m\n\u001b[0;32m      8\u001b[0m \u001b[38;5;124;03m\"\"\"\u001b[39;00m\n\u001b[1;32m---> 10\u001b[0m ax \u001b[38;5;241m=\u001b[39m sns\u001b[38;5;241m.\u001b[39mboxplot(data\u001b[38;5;241m=\u001b[39m\u001b[43mdados\u001b[49m\u001b[43m[\u001b[49m\u001b[38;5;124;43m\"\u001b[39;49m\u001b[38;5;124;43mprecos\u001b[39;49m\u001b[38;5;124;43m\"\u001b[39;49m\u001b[43m]\u001b[49m, orient\u001b[38;5;241m=\u001b[39m\u001b[38;5;124m'\u001b[39m\u001b[38;5;124mv\u001b[39m\u001b[38;5;124m'\u001b[39m, width\u001b[38;5;241m=\u001b[39m\u001b[38;5;241m0.2\u001b[39m)\n\u001b[0;32m     11\u001b[0m ax\u001b[38;5;241m.\u001b[39mfigure\u001b[38;5;241m.\u001b[39mset_size_inches(\u001b[38;5;241m12\u001b[39m,\u001b[38;5;241m6\u001b[39m)\n\u001b[0;32m     12\u001b[0m ax\u001b[38;5;241m.\u001b[39mset_title(\u001b[38;5;124m\"\u001b[39m\u001b[38;5;124mValor do Imóvel\u001b[39m\u001b[38;5;124m\"\u001b[39m, fontsize \u001b[38;5;241m=\u001b[39m \u001b[38;5;241m22\u001b[39m)\n",
      "File \u001b[1;32mc:\\Python311\\Lib\\site-packages\\pandas\\core\\frame.py:4102\u001b[0m, in \u001b[0;36mDataFrame.__getitem__\u001b[1;34m(self, key)\u001b[0m\n\u001b[0;32m   4100\u001b[0m \u001b[38;5;28;01mif\u001b[39;00m \u001b[38;5;28mself\u001b[39m\u001b[38;5;241m.\u001b[39mcolumns\u001b[38;5;241m.\u001b[39mnlevels \u001b[38;5;241m>\u001b[39m \u001b[38;5;241m1\u001b[39m:\n\u001b[0;32m   4101\u001b[0m     \u001b[38;5;28;01mreturn\u001b[39;00m \u001b[38;5;28mself\u001b[39m\u001b[38;5;241m.\u001b[39m_getitem_multilevel(key)\n\u001b[1;32m-> 4102\u001b[0m indexer \u001b[38;5;241m=\u001b[39m \u001b[38;5;28;43mself\u001b[39;49m\u001b[38;5;241;43m.\u001b[39;49m\u001b[43mcolumns\u001b[49m\u001b[38;5;241;43m.\u001b[39;49m\u001b[43mget_loc\u001b[49m\u001b[43m(\u001b[49m\u001b[43mkey\u001b[49m\u001b[43m)\u001b[49m\n\u001b[0;32m   4103\u001b[0m \u001b[38;5;28;01mif\u001b[39;00m is_integer(indexer):\n\u001b[0;32m   4104\u001b[0m     indexer \u001b[38;5;241m=\u001b[39m [indexer]\n",
      "File \u001b[1;32mc:\\Python311\\Lib\\site-packages\\pandas\\core\\indexes\\base.py:3812\u001b[0m, in \u001b[0;36mIndex.get_loc\u001b[1;34m(self, key)\u001b[0m\n\u001b[0;32m   3807\u001b[0m     \u001b[38;5;28;01mif\u001b[39;00m \u001b[38;5;28misinstance\u001b[39m(casted_key, \u001b[38;5;28mslice\u001b[39m) \u001b[38;5;129;01mor\u001b[39;00m (\n\u001b[0;32m   3808\u001b[0m         \u001b[38;5;28misinstance\u001b[39m(casted_key, abc\u001b[38;5;241m.\u001b[39mIterable)\n\u001b[0;32m   3809\u001b[0m         \u001b[38;5;129;01mand\u001b[39;00m \u001b[38;5;28many\u001b[39m(\u001b[38;5;28misinstance\u001b[39m(x, \u001b[38;5;28mslice\u001b[39m) \u001b[38;5;28;01mfor\u001b[39;00m x \u001b[38;5;129;01min\u001b[39;00m casted_key)\n\u001b[0;32m   3810\u001b[0m     ):\n\u001b[0;32m   3811\u001b[0m         \u001b[38;5;28;01mraise\u001b[39;00m InvalidIndexError(key)\n\u001b[1;32m-> 3812\u001b[0m     \u001b[38;5;28;01mraise\u001b[39;00m \u001b[38;5;167;01mKeyError\u001b[39;00m(key) \u001b[38;5;28;01mfrom\u001b[39;00m\u001b[38;5;250m \u001b[39m\u001b[38;5;21;01merr\u001b[39;00m\n\u001b[0;32m   3813\u001b[0m \u001b[38;5;28;01mexcept\u001b[39;00m \u001b[38;5;167;01mTypeError\u001b[39;00m:\n\u001b[0;32m   3814\u001b[0m     \u001b[38;5;66;03m# If we have a listlike key, _check_indexing_error will raise\u001b[39;00m\n\u001b[0;32m   3815\u001b[0m     \u001b[38;5;66;03m#  InvalidIndexError. Otherwise we fall through and re-raise\u001b[39;00m\n\u001b[0;32m   3816\u001b[0m     \u001b[38;5;66;03m#  the TypeError.\u001b[39;00m\n\u001b[0;32m   3817\u001b[0m     \u001b[38;5;28mself\u001b[39m\u001b[38;5;241m.\u001b[39m_check_indexing_error(key)\n",
      "\u001b[1;31mKeyError\u001b[0m: 'precos'"
     ]
    }
   ],
   "source": [
    "import seaborn as sns\n",
    "\n",
    "\"\"\" \n",
    "    Box plot da variável dependente (y)\n",
    "    Avalie o comportamento da distribuição da variável dependente:\n",
    "    Parecem existir valores discrepantes (outliers)?\n",
    "    O box plot apresenta alguma tendência?\n",
    "\"\"\"\n",
    "\n",
    "ax = sns.boxplot(data=dados[\"precos\"], orient='v', width=0.2)\n",
    "ax.figure.set_size_inches(12,6)\n",
    "ax.set_title(\"Valor do Imóvel\", fontsize = 22)\n",
    "ax.set_ylabel(\"Valor em Reais\", fontsize = 22)\n",
    "ax"
   ]
  },
  {
   "cell_type": "code",
   "execution_count": null,
   "metadata": {},
   "outputs": [],
   "source": [
    "# Box-plot (Preço X Garagem)\n",
    "ax = sns.boxplot(data=dados, y=\"precos\", x=\"garagem\", orient='v', width=0.2)\n",
    "ax.figure.set_size_inches(12,6)\n",
    "ax.set_title(\"Valor do Imóvel X Garagem\", fontsize = 22)\n",
    "ax.set_ylabel(\"Quantidade de Garagens\", fontsize = 22)\n",
    "ax"
   ]
  },
  {
   "cell_type": "code",
   "execution_count": null,
   "metadata": {},
   "outputs": [],
   "source": [
    "# Box-plot (Preço X Banheiros)\n",
    "ax = sns.boxplot(y=\"precos\", x=\"banheiros\", data=dados, orient='v', width=0.2)\n",
    "ax.figure.set_size_inches(12,6)\n",
    "ax.set_title(\"Valor do Imóvel X Banheiro\", fontsize = 22)\n",
    "ax.set_ylabel(\"Quantidade de Banheiros\", fontsize = 22)\n",
    "ax"
   ]
  },
  {
   "cell_type": "code",
   "execution_count": null,
   "metadata": {},
   "outputs": [],
   "source": [
    "# Box-plot (Preço X Lareira)\n",
    "ax = sns.boxplot(y=\"precos\", x=\"lareira\", data=dados, orient='v', width=0.2)\n",
    "ax.figure.set_size_inches(12,6)\n",
    "ax.set_title(\"Valor do Imóvel X Lareira\", fontsize = 22)\n",
    "ax.set_ylabel(\"Quantidade de Lareiras\", fontsize = 22)\n",
    "ax"
   ]
  },
  {
   "cell_type": "code",
   "execution_count": null,
   "metadata": {},
   "outputs": [],
   "source": [
    "\"\"\" \n",
    "Distribuição de frequências da variável dependente (y)¶\n",
    "Construa um histograma da variável dependente (Preço).\n",
    "\n",
    "Avalie:\n",
    "A distribuição de frequências da variável dependente parece ser assimétrica?\n",
    "É possível supor que a variável dependente segue uma distribuição normal?\n",
    "\"\"\"\n",
    "\n",
    "x = pd.DataFrame(dados[\"precos\"])\n",
    "ax = sns.distplot(x)\n",
    "ax.figure.set_size_inches(12,6)\n",
    "ax.set_title(\"Distribuição de Frequências\", fontsize = 22)\n",
    "ax.set_ylabel('Frequências', fontsize=16)\n",
    "ax"
   ]
  },
  {
   "cell_type": "code",
   "execution_count": null,
   "metadata": {},
   "outputs": [],
   "source": [
    "from sklearn.model_selection import train_test_split\n",
    "\n",
    "y = dados['precos']\n",
    "X = dados[['area', 'garagem', 'banheiros', 'lareira', 'marmore', 'andares']]\n",
    "\n",
    "X_train, X_test, y_train, y_test = train_test_split( X, y, test_size=0.3, random_state=2811)"
   ]
  },
  {
   "cell_type": "code",
   "execution_count": null,
   "metadata": {},
   "outputs": [
    {
     "ename": "NameError",
     "evalue": "name 'X_train' is not defined",
     "output_type": "error",
     "traceback": [
      "\u001b[1;31m---------------------------------------------------------------------------\u001b[0m",
      "\u001b[1;31mNameError\u001b[0m                                 Traceback (most recent call last)",
      "Cell \u001b[1;32mIn[29], line 5\u001b[0m\n\u001b[0;32m      2\u001b[0m \u001b[38;5;28;01mfrom\u001b[39;00m\u001b[38;5;250m \u001b[39m\u001b[38;5;21;01msklearn\u001b[39;00m\u001b[38;5;250m \u001b[39m\u001b[38;5;28;01mimport\u001b[39;00m metrics\n\u001b[0;32m      4\u001b[0m modelo \u001b[38;5;241m=\u001b[39m LinearRegression()\n\u001b[1;32m----> 5\u001b[0m modelo\u001b[38;5;241m.\u001b[39mfit(\u001b[43mX_train\u001b[49m, y_train)\n",
      "\u001b[1;31mNameError\u001b[0m: name 'X_train' is not defined"
     ]
    }
   ],
   "source": [
    "from sklearn.linear_model import LinearRegression\n",
    "from sklearn import metrics\n",
    "\n",
    "modelo = LinearRegression()\n",
    "modelo.fit(X_train, y_train)\n",
    "\n",
    "# Obtendo o coeficiente de determinação (R²) do modelo estimado com os dados de TREINO\n",
    "print(\"R² = {}\".format(modelo.score(X_train, y_train).round(2)))\n",
    "y_previsto = modelo.predict(X_test)\n",
    "# Obtendo o coeficiente de determinação (R²) para as previsões do nosso modelo\n",
    "print('R² = %s' % metrics.r2_score(y_test, y_previsto).round(2))\n"
   ]
  },
  {
   "cell_type": "code",
   "execution_count": null,
   "metadata": {},
   "outputs": [],
   "source": [
    "area = 130\n",
    "garagem = 2\n",
    "banheiros = 3\n",
    "lareira= 1\n",
    "marmore= 1\n",
    "andares= 1\n",
    "entrada=[[area, garagem, banheiros, lareira, marmore, andares]]\n",
    "\n",
    "print('{0:.2f} Reais'.format(modelo.predict(entrada)[0]))"
   ]
  },
  {
   "cell_type": "code",
   "execution_count": null,
   "metadata": {},
   "outputs": [],
   "source": [
    "EQM = metrics.mean_squared_error(y_test, y_previsto).round(2)\n",
    "REQM = np.sqrt(metrics.mean_squared_error(y_test, y_previsto)).round(2)\n",
    "R2 = metrics.r2_score(y_test, y_previsto).round(2)\n",
    "\n",
    "pd.DataFrame([EQM, REQM, R2], ['EQM', 'REQM', 'R²'], columns=['Métricas'])"
   ]
  },
  {
   "cell_type": "code",
   "execution_count": null,
   "metadata": {},
   "outputs": [],
   "source": [
    "# salvar modelo\n",
    "\n",
    "import pickle\n",
    "output = open('modelo_preço', 'wb')\n",
    "pickle.dump(modelo, output)\n",
    "output.close()"
   ]
  }
 ],
 "metadata": {
  "kernelspec": {
   "display_name": "Python 3",
   "language": "python",
   "name": "python3"
  },
  "language_info": {
   "codemirror_mode": {
    "name": "ipython",
    "version": 3
   },
   "file_extension": ".py",
   "mimetype": "text/x-python",
   "name": "python",
   "nbconvert_exporter": "python",
   "pygments_lexer": "ipython3",
   "version": "3.11.0"
  }
 },
 "nbformat": 4,
 "nbformat_minor": 2
}
