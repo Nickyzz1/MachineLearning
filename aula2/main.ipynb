{
 "cells": [
  {
   "cell_type": "code",
   "execution_count": null,
   "metadata": {},
   "outputs": [],
   "source": [
    "import pandas as pd\n",
    "from sklearn.model_selection import train_test_split\n",
    "from sklearn.linear_model import LinearRegression # Um algoritmo qualquer\n",
    "from joblib import dump, load\n",
    "from sklearn.metrics import mean_absolute_error\n",
    "from sklearn.tree import DecisionTreeRegressor\n",
    "from sklearn.tree import DecisionTreeClassifier\n",
    "\n",
    "df = pd.read_csv('sample_data/california_housing_train.csv')\n",
    "# obtendo o nosso objetivo\n",
    "Y = df['median_house_value']\n",
    "# removendo o objetivo do resto dos dados\n",
    "X = df.drop('median_house_value', axis=1)\n",
    "# test_size = proporção que vai para teste\n",
    "# random_state = semente aleatória para embaralhar os dados\n",
    "X_train, X_test, Y_train, Y_test = train_test_split(X, Y, test_size=0.10, random_state=42)\n",
    "\n",
    "model = DecisionTreeClassifier(\n",
    "    criterion = \"entropy\",\n",
    "    max_depth = 20,\n",
    "    min_samples_split = 10\n",
    ")\n",
    "\n",
    "model.fit(X_train, Y_train)\n",
    "\n",
    "model = DecisionTreeRegressor(\n",
    "    max_depth = 20,\n",
    "    min_samples_split = 10\n",
    ")\n",
    "\n",
    "# Criando e treinando o modelo\n",
    "# model = DecisionTreeRegressor()\n",
    "model.fit(X_train, Y_train)\n",
    "# salva o modelo treinado para uso posterior\n",
    "dump(model, 'filename.joblib')\n",
    "# model = load('filename.joblib') # carrega o modelo, evidentemente não é necessário\n",
    "\n",
    "Y_real = Y_train\n",
    "Y_pred = model.predict(X_train)\n",
    "train_error = mean_absolute_error(Y_real, Y_pred)\n",
    "Y_real = Y_test\n",
    "Y_pred = model.predict(X_test)\n",
    "test_error = mean_absolute_error(Y_real, Y_pred)\n",
    "print(train_error, test_error) # 50786 50922\n",
    "\n",
    "# ele printa o erro, nesse caso eu errei 16 mil dolares"
   ]
  }
 ],
 "metadata": {
  "language_info": {
   "name": "python"
  }
 },
 "nbformat": 4,
 "nbformat_minor": 2
}
